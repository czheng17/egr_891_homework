{
 "cells": [
  {
   "cell_type": "code",
   "execution_count": 1,
   "metadata": {},
   "outputs": [],
   "source": [
    "from sklearn.datasets import fetch_20newsgroups\n",
    "from sklearn.feature_extraction.text import CountVectorizer, TfidfVectorizer\n",
    "import numpy as np\n",
    "import sys\n",
    "import math\n",
    "np.set_printoptions(threshold=sys.maxsize)\n",
    "np.set_printoptions(precision=3)\n",
    "np.set_printoptions(suppress=True)"
   ]
  },
  {
   "cell_type": "code",
   "execution_count": 2,
   "metadata": {},
   "outputs": [
    {
     "name": "stdout",
     "output_type": "stream",
     "text": [
      "(11314, 2000)\n"
     ]
    }
   ],
   "source": [
    "newsgroups_train = fetch_20newsgroups(subset='train')\n",
    "vectorizer = TfidfVectorizer(max_features=2000)\n",
    "vect_train = vectorizer.fit_transform(newsgroups_train.data)\n",
    "vect_train_dense = vect_train.todense()\n",
    "print(vect_train_dense.shape)"
   ]
  },
  {
   "cell_type": "code",
   "execution_count": 3,
   "metadata": {},
   "outputs": [
    {
     "name": "stdout",
     "output_type": "stream",
     "text": [
      "(7532, 2000)\n"
     ]
    }
   ],
   "source": [
    "newsgroups_test = fetch_20newsgroups(subset='test')\n",
    "vect_test = vectorizer.transform(newsgroups_test.data)\n",
    "vect_test_dense = vect_test.todense()\n",
    "print(vect_test_dense.shape)"
   ]
  },
  {
   "cell_type": "code",
   "execution_count": 4,
   "metadata": {},
   "outputs": [],
   "source": [
    "class Perceptron():\n",
    "\n",
    "    def __init__(self, input_num, lr, steps, num_of_bit):\n",
    "        self.input_num = input_num\n",
    "        self.steps = steps\n",
    "        self.lr = lr\n",
    "        self.num_of_bit = num_of_bit\n",
    "        self.w = np.random.random_sample((self.num_of_bit, self.input_num))\n",
    "        self.b = np.random.random_sample((self.num_of_bit, 1))\n",
    "    \n",
    "    def change_label_to_1_and_m1s(self, labels, num_of_cls=20):\n",
    "        res = []\n",
    "        for label in labels:\n",
    "            tmp = [-1] * num_of_cls\n",
    "            tmp[label] = 1\n",
    "            res.append(tmp)\n",
    "        return np.array(res)\n",
    "    \n",
    "    def precision(self, a, b, num_of_bin, num_of_cls):\n",
    "        correct = 0\n",
    "        pred = a.tolist()\n",
    "        for i in range(len(pred)):\n",
    "            answer = pred[i].index(max(pred[i]))\n",
    "            if answer==int(b[i]):\n",
    "                correct+=1\n",
    "                    \n",
    "        return float(correct) / len(a)\n",
    "        \n",
    "           \n",
    "    def compute_unit(self, input_feature, w, b, threshold):\n",
    "        wx_plus_b = np.dot(w, input_feature)\n",
    "        y = np.sign(wx_plus_b)\n",
    "        return y\n",
    "    \n",
    "    def train(self, input_features, labels, num_of_bit, threshold, num_of_cls):\n",
    "        multi_cls_label = self.change_label_to_1_and_m1s(labels, num_of_cls)\n",
    "        for step in range(self.steps):\n",
    "            y = self.compute_unit(input_features, self.w, self.b, threshold)\n",
    "            self.w += self.lr * np.sign(multi_cls_label.T-y) * input_features.T\n",
    "            if step % 20 == 0:\n",
    "                print('precision: ', self.precision(y.T, labels, num_of_bit, num_of_cls))\n",
    "        return self.w\n",
    "    \n",
    "    def test_all(self, input_features, labels, num_of_bit, threshold, num_of_cls, stored_w):\n",
    "        y = self.compute_unit(input_features, stored_w, self.b, threshold)\n",
    "        print('precision: ', self.precision(y.T, labels, num_of_bit, num_of_cls))\n",
    "    "
   ]
  },
  {
   "cell_type": "code",
   "execution_count": 5,
   "metadata": {},
   "outputs": [
    {
     "name": "stdout",
     "output_type": "stream",
     "text": [
      "precision:  0.04242531377054976\n",
      "precision:  0.5979317659536857\n",
      "precision:  0.7782393494785221\n",
      "precision:  0.8497436803959696\n",
      "precision:  0.8901361145483472\n",
      "precision:  0.9216015555948383\n",
      "precision:  0.9346826940074244\n",
      "precision:  0.9749867420894467\n",
      "precision:  0.983295032702846\n",
      "precision:  0.9871840197984798\n"
     ]
    }
   ],
   "source": [
    "num_of_cls = len(newsgroups_train.target_names)\n",
    "model = Perceptron(int(vect_train.shape[1]), lr=0.2, steps=200, num_of_bit=num_of_cls)\n",
    "weight_list = model.train(vect_train_dense.T, newsgroups_train.target, num_of_bit=5, threshold=0.5, num_of_cls=num_of_cls)"
   ]
  },
  {
   "cell_type": "code",
   "execution_count": 6,
   "metadata": {},
   "outputs": [
    {
     "name": "stdout",
     "output_type": "stream",
     "text": [
      "precision:  0.6028943175783325\n"
     ]
    }
   ],
   "source": [
    "num_of_cls = len(newsgroups_test.target_names)\n",
    "test_acc = model.test_all(vect_test_dense.T, newsgroups_test.target, 5, 0.5, num_of_cls, weight_list)"
   ]
  },
  {
   "cell_type": "code",
   "execution_count": null,
   "metadata": {},
   "outputs": [],
   "source": []
  }
 ],
 "metadata": {
  "kernelspec": {
   "display_name": "Python 3",
   "language": "python",
   "name": "python3"
  },
  "language_info": {
   "codemirror_mode": {
    "name": "ipython",
    "version": 3
   },
   "file_extension": ".py",
   "mimetype": "text/x-python",
   "name": "python",
   "nbconvert_exporter": "python",
   "pygments_lexer": "ipython3",
   "version": "3.7.3"
  }
 },
 "nbformat": 4,
 "nbformat_minor": 4
}
