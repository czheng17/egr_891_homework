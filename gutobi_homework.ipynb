{
 "cells": [
  {
   "cell_type": "code",
   "execution_count": 26,
   "metadata": {},
   "outputs": [],
   "source": [
    "import gurobipy as gp\n",
    "from gurobipy import GRB"
   ]
  },
  {
   "cell_type": "code",
   "execution_count": 27,
   "metadata": {},
   "outputs": [],
   "source": [
    "# Create a new model\n",
    "model = gp.Model(\"SVM\")\n",
    "\n",
    "# Create variables\n",
    "w1 = model.addVar(vtype=GRB.CONTINUOUS, name=\"w1\", lb=-GRB.INFINITY)\n",
    "w2 = model.addVar(vtype=GRB.CONTINUOUS, name=\"w2\", lb=-GRB.INFINITY)\n",
    "b  = model.addVar(vtype=GRB.CONTINUOUS, name=\"b\", lb=-GRB.INFINITY)"
   ]
  },
  {
   "cell_type": "code",
   "execution_count": 28,
   "metadata": {},
   "outputs": [],
   "source": [
    "x = [[0,0], [2,2], [2,0], [3,0]]\n",
    "y = [-1, -1, 1, 1]"
   ]
  },
  {
   "cell_type": "code",
   "execution_count": 29,
   "metadata": {},
   "outputs": [],
   "source": [
    "# Add constraints\n",
    "for i in range(len(x)):\n",
    "    model.addConstr(y[i]*(w1*x[i][0] + w2*x[i][1] + b) >= 1, 'c'+str(i))"
   ]
  },
  {
   "cell_type": "code",
   "execution_count": 37,
   "metadata": {},
   "outputs": [
    {
     "name": "stdout",
     "output_type": "stream",
     "text": [
      "Optimize a model with 4 rows, 3 columns and 8 nonzeros\n",
      "Model has 2 quadratic objective terms\n",
      "Coefficient statistics:\n",
      "  Matrix range     [1e+00, 3e+00]\n",
      "  Objective range  [0e+00, 0e+00]\n",
      "  QObjective range [1e+00, 1e+00]\n",
      "  Bounds range     [0e+00, 0e+00]\n",
      "  RHS range        [1e+00, 1e+00]\n",
      "Presolve removed 1 rows and 0 columns\n",
      "Presolve time: 0.01s\n",
      "Presolved: 3 rows, 3 columns, 7 nonzeros\n",
      "Presolved model has 2 quadratic objective terms\n",
      "Ordering time: 0.00s\n",
      "\n",
      "Barrier statistics:\n",
      " Free vars  : 1\n",
      " AA' NZ     : 3.000e+00\n",
      " Factor NZ  : 6.000e+00\n",
      " Factor Ops : 1.400e+01 (less than 1 second per iteration)\n",
      " Threads    : 1\n",
      "\n",
      "                  Objective                Residual\n",
      "Iter       Primal          Dual         Primal    Dual     Compl     Time\n",
      "   0   5.00799224e+05 -4.99300547e+05  1.00e+03 1.00e+03  1.00e+06     0s\n",
      "   1   3.44084214e+05 -3.43048467e+05  0.00e+00 1.00e-03  1.37e+05     0s\n",
      "   2   5.05345746e+04 -5.01374994e+04  0.00e+00 1.00e-09  2.01e+04     0s\n",
      "   3   7.45093819e+03 -7.29837481e+03  0.00e+00 2.13e-14  2.95e+03     0s\n",
      "   4   1.10986419e+03 -1.05090723e+03  0.00e+00 3.55e-15  4.32e+02     0s\n",
      "   5   1.69777237e+02 -1.46648805e+02  0.00e+00 5.33e-15  6.33e+01     0s\n",
      "   6   2.78212481e+01 -1.83892445e+01  0.00e+00 1.78e-15  9.24e+00     0s\n",
      "   7   5.43026920e+00 -1.18820870e+00  0.00e+00 1.33e-15  1.32e+00     0s\n",
      "   8   1.60922406e+00  7.89824961e-01  0.00e+00 2.22e-16  1.64e-01     0s\n",
      "   9   1.01335637e+00  9.85730377e-01  0.00e+00 1.11e-16  5.53e-03     0s\n",
      "  10   1.00004680e+00  9.99366056e-01  0.00e+00 1.11e-16  1.36e-04     0s\n",
      "  11   1.00000785e+00  9.99997220e-01  0.00e+00 2.22e-16  2.13e-06     0s\n",
      "  12   1.00000001e+00  9.99999997e-01  0.00e+00 2.22e-16  2.14e-09     0s\n",
      "\n",
      "Barrier solved model in 12 iterations and 0.03 seconds\n",
      "Optimal objective 1.00000001e+00\n",
      "\n"
     ]
    }
   ],
   "source": [
    "# Set objective\n",
    "model.setObjective(0.5 *( w1*w1 + w2*w2), GRB.MINIMIZE)\n",
    "# Optimize model\n",
    "model.optimize()"
   ]
  },
  {
   "cell_type": "code",
   "execution_count": 38,
   "metadata": {},
   "outputs": [
    {
     "name": "stdout",
     "output_type": "stream",
     "text": [
      "w1 1\n",
      "w2 -1\n",
      "b -1\n",
      "Obj: 1\n"
     ]
    }
   ],
   "source": [
    "for v in model.getVars():\n",
    "    print('%s %g' % (v.varName, v.x))\n",
    "\n",
    "print('Obj: %g' % model.objVal)"
   ]
  },
  {
   "cell_type": "code",
   "execution_count": null,
   "metadata": {},
   "outputs": [],
   "source": []
  }
 ],
 "metadata": {
  "kernelspec": {
   "display_name": "Python 3",
   "language": "python",
   "name": "python3"
  },
  "language_info": {
   "codemirror_mode": {
    "name": "ipython",
    "version": 3
   },
   "file_extension": ".py",
   "mimetype": "text/x-python",
   "name": "python",
   "nbconvert_exporter": "python",
   "pygments_lexer": "ipython3",
   "version": "3.7.3"
  }
 },
 "nbformat": 4,
 "nbformat_minor": 4
}
